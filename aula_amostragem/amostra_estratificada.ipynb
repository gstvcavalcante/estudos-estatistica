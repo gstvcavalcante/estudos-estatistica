{
 "cells": [
  {
   "cell_type": "markdown",
   "id": "0f4fe06e",
   "metadata": {},
   "source": [
    "### Amostra estratificada"
   ]
  },
  {
   "cell_type": "code",
   "execution_count": 1,
   "id": "7d8561de",
   "metadata": {},
   "outputs": [],
   "source": [
    "#Para a amostra estratificada, é simples: Imagine que nossa população tem 90 registros e 54 são mulheres e 36 são homens.\n",
    "#Quando definimos um valor de amostras, os registros devem ser proporcionais entre mulheres e homens. Digamos então que queremos\n",
    "#uma amostragem de 10%. Basta pegar 10% de 54 mulheres e 10% de 36 homens e teremos nossa amostra estratificada de forma \n",
    "#proporcional. 54 * 10% = 5,4 (arredondamos para 5) e 36 * 10% = 3,6 (arredondamos para 4). Nossa amostra terá 5 mulheres e\n",
    "#4 homens.\n",
    "#Agora basta utilizar outra técnica para retirar as amostras aleatórias dentro de cada grupo, uma vez que temos a quantidade."
   ]
  },
  {
   "cell_type": "code",
   "execution_count": 2,
   "id": "b0dddd04",
   "metadata": {},
   "outputs": [],
   "source": [
    "#Importando as bibliotecas\n",
    "\n",
    "import pandas as pd\n",
    "from sklearn.model_selection import StratifiedShuffleSplit\n",
    "\n",
    "#sklearn é uma biblioteca de machine learning com vários recursos estatíticos para aprendizado de máquina.\n",
    "#model_selection é um pacote da biblioteca que traz funções onde podemos dividir nossos dados em porções e realizar testes.\n",
    "#StratifiedShuffleSplit é a função que vai dividir proporcionalmente nossa base de dados para obtermos as amostras estratificas."
   ]
  },
  {
   "cell_type": "code",
   "execution_count": 3,
   "id": "299884ed",
   "metadata": {},
   "outputs": [],
   "source": [
    "dataset = pd.read_csv(\"census.csv\")"
   ]
  },
  {
   "cell_type": "code",
   "execution_count": 7,
   "id": "17375f05",
   "metadata": {},
   "outputs": [
    {
     "data": {
      "text/plain": [
       "(32561, 15)"
      ]
     },
     "execution_count": 7,
     "metadata": {},
     "output_type": "execute_result"
    }
   ],
   "source": [
    "dataset.shape"
   ]
  },
  {
   "cell_type": "code",
   "execution_count": 4,
   "id": "96aeda95",
   "metadata": {},
   "outputs": [
    {
     "data": {
      "text/html": [
       "<div>\n",
       "<style scoped>\n",
       "    .dataframe tbody tr th:only-of-type {\n",
       "        vertical-align: middle;\n",
       "    }\n",
       "\n",
       "    .dataframe tbody tr th {\n",
       "        vertical-align: top;\n",
       "    }\n",
       "\n",
       "    .dataframe thead th {\n",
       "        text-align: right;\n",
       "    }\n",
       "</style>\n",
       "<table border=\"1\" class=\"dataframe\">\n",
       "  <thead>\n",
       "    <tr style=\"text-align: right;\">\n",
       "      <th></th>\n",
       "      <th>age</th>\n",
       "      <th>workclass</th>\n",
       "      <th>final-weight</th>\n",
       "      <th>education</th>\n",
       "      <th>education-num</th>\n",
       "      <th>marital-status</th>\n",
       "      <th>occupation</th>\n",
       "      <th>relationship</th>\n",
       "      <th>race</th>\n",
       "      <th>sex</th>\n",
       "      <th>capital-gain</th>\n",
       "      <th>capital-loos</th>\n",
       "      <th>hour-per-week</th>\n",
       "      <th>native-country</th>\n",
       "      <th>income</th>\n",
       "    </tr>\n",
       "  </thead>\n",
       "  <tbody>\n",
       "    <tr>\n",
       "      <th>0</th>\n",
       "      <td>39</td>\n",
       "      <td>State-gov</td>\n",
       "      <td>77516</td>\n",
       "      <td>Bachelors</td>\n",
       "      <td>13</td>\n",
       "      <td>Never-married</td>\n",
       "      <td>Adm-clerical</td>\n",
       "      <td>Not-in-family</td>\n",
       "      <td>White</td>\n",
       "      <td>Male</td>\n",
       "      <td>2174</td>\n",
       "      <td>0</td>\n",
       "      <td>40</td>\n",
       "      <td>United-States</td>\n",
       "      <td>&lt;=50K</td>\n",
       "    </tr>\n",
       "    <tr>\n",
       "      <th>1</th>\n",
       "      <td>50</td>\n",
       "      <td>Self-emp-not-inc</td>\n",
       "      <td>83311</td>\n",
       "      <td>Bachelors</td>\n",
       "      <td>13</td>\n",
       "      <td>Married-civ-spouse</td>\n",
       "      <td>Exec-managerial</td>\n",
       "      <td>Husband</td>\n",
       "      <td>White</td>\n",
       "      <td>Male</td>\n",
       "      <td>0</td>\n",
       "      <td>0</td>\n",
       "      <td>13</td>\n",
       "      <td>United-States</td>\n",
       "      <td>&lt;=50K</td>\n",
       "    </tr>\n",
       "    <tr>\n",
       "      <th>2</th>\n",
       "      <td>38</td>\n",
       "      <td>Private</td>\n",
       "      <td>215646</td>\n",
       "      <td>HS-grad</td>\n",
       "      <td>9</td>\n",
       "      <td>Divorced</td>\n",
       "      <td>Handlers-cleaners</td>\n",
       "      <td>Not-in-family</td>\n",
       "      <td>White</td>\n",
       "      <td>Male</td>\n",
       "      <td>0</td>\n",
       "      <td>0</td>\n",
       "      <td>40</td>\n",
       "      <td>United-States</td>\n",
       "      <td>&lt;=50K</td>\n",
       "    </tr>\n",
       "    <tr>\n",
       "      <th>3</th>\n",
       "      <td>53</td>\n",
       "      <td>Private</td>\n",
       "      <td>234721</td>\n",
       "      <td>11th</td>\n",
       "      <td>7</td>\n",
       "      <td>Married-civ-spouse</td>\n",
       "      <td>Handlers-cleaners</td>\n",
       "      <td>Husband</td>\n",
       "      <td>Black</td>\n",
       "      <td>Male</td>\n",
       "      <td>0</td>\n",
       "      <td>0</td>\n",
       "      <td>40</td>\n",
       "      <td>United-States</td>\n",
       "      <td>&lt;=50K</td>\n",
       "    </tr>\n",
       "    <tr>\n",
       "      <th>4</th>\n",
       "      <td>28</td>\n",
       "      <td>Private</td>\n",
       "      <td>338409</td>\n",
       "      <td>Bachelors</td>\n",
       "      <td>13</td>\n",
       "      <td>Married-civ-spouse</td>\n",
       "      <td>Prof-specialty</td>\n",
       "      <td>Wife</td>\n",
       "      <td>Black</td>\n",
       "      <td>Female</td>\n",
       "      <td>0</td>\n",
       "      <td>0</td>\n",
       "      <td>40</td>\n",
       "      <td>Cuba</td>\n",
       "      <td>&lt;=50K</td>\n",
       "    </tr>\n",
       "  </tbody>\n",
       "</table>\n",
       "</div>"
      ],
      "text/plain": [
       "   age          workclass  final-weight   education  education-num  \\\n",
       "0   39          State-gov         77516   Bachelors             13   \n",
       "1   50   Self-emp-not-inc         83311   Bachelors             13   \n",
       "2   38            Private        215646     HS-grad              9   \n",
       "3   53            Private        234721        11th              7   \n",
       "4   28            Private        338409   Bachelors             13   \n",
       "\n",
       "        marital-status          occupation    relationship    race      sex  \\\n",
       "0        Never-married        Adm-clerical   Not-in-family   White     Male   \n",
       "1   Married-civ-spouse     Exec-managerial         Husband   White     Male   \n",
       "2             Divorced   Handlers-cleaners   Not-in-family   White     Male   \n",
       "3   Married-civ-spouse   Handlers-cleaners         Husband   Black     Male   \n",
       "4   Married-civ-spouse      Prof-specialty            Wife   Black   Female   \n",
       "\n",
       "   capital-gain  capital-loos  hour-per-week  native-country  income  \n",
       "0          2174             0             40   United-States   <=50K  \n",
       "1             0             0             13   United-States   <=50K  \n",
       "2             0             0             40   United-States   <=50K  \n",
       "3             0             0             40   United-States   <=50K  \n",
       "4             0             0             40            Cuba   <=50K  "
      ]
     },
     "execution_count": 4,
     "metadata": {},
     "output_type": "execute_result"
    }
   ],
   "source": [
    "dataset.head()"
   ]
  },
  {
   "cell_type": "code",
   "execution_count": 5,
   "id": "57caf0a2",
   "metadata": {},
   "outputs": [
    {
     "data": {
      "text/html": [
       "<div>\n",
       "<style scoped>\n",
       "    .dataframe tbody tr th:only-of-type {\n",
       "        vertical-align: middle;\n",
       "    }\n",
       "\n",
       "    .dataframe tbody tr th {\n",
       "        vertical-align: top;\n",
       "    }\n",
       "\n",
       "    .dataframe thead th {\n",
       "        text-align: right;\n",
       "    }\n",
       "</style>\n",
       "<table border=\"1\" class=\"dataframe\">\n",
       "  <thead>\n",
       "    <tr style=\"text-align: right;\">\n",
       "      <th></th>\n",
       "      <th>age</th>\n",
       "      <th>workclass</th>\n",
       "      <th>final-weight</th>\n",
       "      <th>education</th>\n",
       "      <th>education-num</th>\n",
       "      <th>marital-status</th>\n",
       "      <th>occupation</th>\n",
       "      <th>relationship</th>\n",
       "      <th>race</th>\n",
       "      <th>sex</th>\n",
       "      <th>capital-gain</th>\n",
       "      <th>capital-loos</th>\n",
       "      <th>hour-per-week</th>\n",
       "      <th>native-country</th>\n",
       "      <th>income</th>\n",
       "    </tr>\n",
       "  </thead>\n",
       "  <tbody>\n",
       "    <tr>\n",
       "      <th>32556</th>\n",
       "      <td>27</td>\n",
       "      <td>Private</td>\n",
       "      <td>257302</td>\n",
       "      <td>Assoc-acdm</td>\n",
       "      <td>12</td>\n",
       "      <td>Married-civ-spouse</td>\n",
       "      <td>Tech-support</td>\n",
       "      <td>Wife</td>\n",
       "      <td>White</td>\n",
       "      <td>Female</td>\n",
       "      <td>0</td>\n",
       "      <td>0</td>\n",
       "      <td>38</td>\n",
       "      <td>United-States</td>\n",
       "      <td>&lt;=50K</td>\n",
       "    </tr>\n",
       "    <tr>\n",
       "      <th>32557</th>\n",
       "      <td>40</td>\n",
       "      <td>Private</td>\n",
       "      <td>154374</td>\n",
       "      <td>HS-grad</td>\n",
       "      <td>9</td>\n",
       "      <td>Married-civ-spouse</td>\n",
       "      <td>Machine-op-inspct</td>\n",
       "      <td>Husband</td>\n",
       "      <td>White</td>\n",
       "      <td>Male</td>\n",
       "      <td>0</td>\n",
       "      <td>0</td>\n",
       "      <td>40</td>\n",
       "      <td>United-States</td>\n",
       "      <td>&gt;50K</td>\n",
       "    </tr>\n",
       "    <tr>\n",
       "      <th>32558</th>\n",
       "      <td>58</td>\n",
       "      <td>Private</td>\n",
       "      <td>151910</td>\n",
       "      <td>HS-grad</td>\n",
       "      <td>9</td>\n",
       "      <td>Widowed</td>\n",
       "      <td>Adm-clerical</td>\n",
       "      <td>Unmarried</td>\n",
       "      <td>White</td>\n",
       "      <td>Female</td>\n",
       "      <td>0</td>\n",
       "      <td>0</td>\n",
       "      <td>40</td>\n",
       "      <td>United-States</td>\n",
       "      <td>&lt;=50K</td>\n",
       "    </tr>\n",
       "    <tr>\n",
       "      <th>32559</th>\n",
       "      <td>22</td>\n",
       "      <td>Private</td>\n",
       "      <td>201490</td>\n",
       "      <td>HS-grad</td>\n",
       "      <td>9</td>\n",
       "      <td>Never-married</td>\n",
       "      <td>Adm-clerical</td>\n",
       "      <td>Own-child</td>\n",
       "      <td>White</td>\n",
       "      <td>Male</td>\n",
       "      <td>0</td>\n",
       "      <td>0</td>\n",
       "      <td>20</td>\n",
       "      <td>United-States</td>\n",
       "      <td>&lt;=50K</td>\n",
       "    </tr>\n",
       "    <tr>\n",
       "      <th>32560</th>\n",
       "      <td>52</td>\n",
       "      <td>Self-emp-inc</td>\n",
       "      <td>287927</td>\n",
       "      <td>HS-grad</td>\n",
       "      <td>9</td>\n",
       "      <td>Married-civ-spouse</td>\n",
       "      <td>Exec-managerial</td>\n",
       "      <td>Wife</td>\n",
       "      <td>White</td>\n",
       "      <td>Female</td>\n",
       "      <td>15024</td>\n",
       "      <td>0</td>\n",
       "      <td>40</td>\n",
       "      <td>United-States</td>\n",
       "      <td>&gt;50K</td>\n",
       "    </tr>\n",
       "  </tbody>\n",
       "</table>\n",
       "</div>"
      ],
      "text/plain": [
       "       age      workclass  final-weight    education  education-num  \\\n",
       "32556   27        Private        257302   Assoc-acdm             12   \n",
       "32557   40        Private        154374      HS-grad              9   \n",
       "32558   58        Private        151910      HS-grad              9   \n",
       "32559   22        Private        201490      HS-grad              9   \n",
       "32560   52   Self-emp-inc        287927      HS-grad              9   \n",
       "\n",
       "            marital-status          occupation relationship    race      sex  \\\n",
       "32556   Married-civ-spouse        Tech-support         Wife   White   Female   \n",
       "32557   Married-civ-spouse   Machine-op-inspct      Husband   White     Male   \n",
       "32558              Widowed        Adm-clerical    Unmarried   White   Female   \n",
       "32559        Never-married        Adm-clerical    Own-child   White     Male   \n",
       "32560   Married-civ-spouse     Exec-managerial         Wife   White   Female   \n",
       "\n",
       "       capital-gain  capital-loos  hour-per-week  native-country  income  \n",
       "32556             0             0             38   United-States   <=50K  \n",
       "32557             0             0             40   United-States    >50K  \n",
       "32558             0             0             40   United-States   <=50K  \n",
       "32559             0             0             20   United-States   <=50K  \n",
       "32560         15024             0             40   United-States    >50K  "
      ]
     },
     "execution_count": 5,
     "metadata": {},
     "output_type": "execute_result"
    }
   ],
   "source": [
    "dataset.tail()"
   ]
  },
  {
   "cell_type": "code",
   "execution_count": 6,
   "id": "8c392510",
   "metadata": {},
   "outputs": [
    {
     "data": {
      "text/plain": [
       "income\n",
       " <=50K    24720\n",
       " >50K      7841\n",
       "Name: count, dtype: int64"
      ]
     },
     "execution_count": 6,
     "metadata": {},
     "output_type": "execute_result"
    }
   ],
   "source": [
    "#Digamos então que queremos tirar uma amostragem estratificada usando o income como referência. Vamos usar o value_counts()\n",
    "#para descobrir quais valores temos nessa coluna 'income' e suas quantidades.\n",
    "\n",
    "dataset['income'].value_counts()"
   ]
  },
  {
   "cell_type": "code",
   "execution_count": 8,
   "id": "c0c29755",
   "metadata": {},
   "outputs": [
    {
     "data": {
      "text/plain": [
       "(0.7591904425539756, 0.2408095574460244)"
      ]
     },
     "execution_count": 8,
     "metadata": {},
     "output_type": "execute_result"
    }
   ],
   "source": [
    "#Acima temos que 24720 dos nossos registros ganham menos ou igual a 50K por ano. Já 7841 ganham mais que 50K.\n",
    "#Isso em porcentagem representa:\n",
    "\n",
    "24720 / len(dataset), 7841 / len(dataset)\n",
    "\n",
    "#O valor é proporcional a 76% e 24%."
   ]
  },
  {
   "cell_type": "code",
   "execution_count": 9,
   "id": "4fdce723",
   "metadata": {},
   "outputs": [],
   "source": [
    "#Então podemos chamar nossa função para dividir nossa base de dados em duas variáveis que são nossos dataframes de treino e de\n",
    "#teste (x e y).\n",
    "\n",
    "base_dividida = StratifiedShuffleSplit(test_size = 0.1) #A função recebe o parâmetro test_size que determina em porcentagem\n",
    "#a porção da amostra que usaremos\n",
    "for x, y in base_dividida.split(dataset, dataset['income']):\n",
    "    df_treino = dataset.iloc[x]\n",
    "    df_teste = dataset.iloc[y]\n",
    "\n",
    "#A função split recebe como parâmetro nosso dataset e a coluna que será usada de referência na divisão.\n",
    "#df_treino recebe o valor da variável x que foi criada no for e representa 0.9 (90% da base)\n",
    "#df_teste recebe o valor da variável y que foi criada no for e representa 0.1 (10% da base), ou seja, o valor que passamos como\n",
    "#test_size dentro da função StratifiedShuffleSplit."
   ]
  },
  {
   "cell_type": "code",
   "execution_count": 10,
   "id": "450e5e8c",
   "metadata": {},
   "outputs": [
    {
     "data": {
      "text/plain": [
       "((29304, 15), (3257, 15))"
      ]
     },
     "execution_count": 10,
     "metadata": {},
     "output_type": "execute_result"
    }
   ],
   "source": [
    "df_treino.shape, df_teste.shape\n",
    "\n",
    "#Aqui podemos reparar como ficou a divisão da base dentro das novas variáveis."
   ]
  },
  {
   "cell_type": "code",
   "execution_count": 11,
   "id": "11cb6540",
   "metadata": {},
   "outputs": [
    {
     "data": {
      "text/plain": [
       "income\n",
       " <=50K    2473\n",
       " >50K      784\n",
       "Name: count, dtype: int64"
      ]
     },
     "execution_count": 11,
     "metadata": {},
     "output_type": "execute_result"
    }
   ],
   "source": [
    "#Para garantir a proporcionalidade da nossa amostragem, novamente utilizamos o value_counts()\n",
    "\n",
    "df_teste['income'].value_counts()"
   ]
  },
  {
   "cell_type": "code",
   "execution_count": 13,
   "id": "8c39f9c7",
   "metadata": {},
   "outputs": [
    {
     "data": {
      "text/plain": [
       "(0.7592876880564937, 0.24071231194350629)"
      ]
     },
     "execution_count": 13,
     "metadata": {},
     "output_type": "execute_result"
    }
   ],
   "source": [
    "2473 / len(df_teste), 784 / len(df_teste)\n",
    "\n",
    "#O valor é proporcional a 76% e 24%, como vimos anteriormente."
   ]
  },
  {
   "cell_type": "code",
   "execution_count": 14,
   "id": "7b18fb7c",
   "metadata": {},
   "outputs": [
    {
     "data": {
      "text/plain": [
       "0.0030711587481956942"
      ]
     },
     "execution_count": 14,
     "metadata": {},
     "output_type": "execute_result"
    }
   ],
   "source": [
    "#Se quisermos utilizar um valor diferente de amostragem, basta definir o valor e alterar o test_size.\n",
    "#Por exemplo, se eu quiser somente 100 amostras estratificadas, preciso descobrir o quanto representa do meu dataset.\n",
    "#Basta dividir 100 pelo len do dataset.\n",
    "\n",
    "100 / len(dataset)\n",
    "\n",
    "#Esse é o valor que vai dentro do nosso test_size"
   ]
  },
  {
   "cell_type": "code",
   "execution_count": 17,
   "id": "68cbea5c",
   "metadata": {},
   "outputs": [],
   "source": [
    "#Agora só criar uma nova base dividida e novos dataframes dentro das variáveis (dessa vez a e b).\n",
    "\n",
    "nova_base_dividida = StratifiedShuffleSplit(test_size = 0.0030711587481956942) \n",
    "for a, b in nova_base_dividida.split(dataset, dataset['income']):\n",
    "    novo_df_treino = dataset.iloc[a]\n",
    "    novo_df_teste = dataset.iloc[b]"
   ]
  },
  {
   "cell_type": "code",
   "execution_count": 18,
   "id": "7f3e16ca",
   "metadata": {},
   "outputs": [
    {
     "data": {
      "text/plain": [
       "((32461, 15), (100, 15))"
      ]
     },
     "execution_count": 18,
     "metadata": {},
     "output_type": "execute_result"
    }
   ],
   "source": [
    "novo_df_treino.shape, novo_df_teste.shape"
   ]
  },
  {
   "cell_type": "code",
   "execution_count": 19,
   "id": "19ca14a5",
   "metadata": {
    "scrolled": true
   },
   "outputs": [
    {
     "data": {
      "text/plain": [
       "income\n",
       " <=50K    76\n",
       " >50K     24\n",
       "Name: count, dtype: int64"
      ]
     },
     "execution_count": 19,
     "metadata": {},
     "output_type": "execute_result"
    }
   ],
   "source": [
    "novo_df_teste['income'].value_counts()"
   ]
  },
  {
   "cell_type": "code",
   "execution_count": 35,
   "id": "a2d6920e",
   "metadata": {},
   "outputs": [],
   "source": [
    "#Criando a função para retirar amostra estratificada:\n",
    "def amostragem_estratificada(dataframe, percentual, coluna): #Adicionei um parâmetro 'coluna' pra definir a referência do dado\n",
    "    #que dividirá nossa base\n",
    "    nova_base = StratifiedShuffleSplit(test_size = percentual) \n",
    "    for _, t in nova_base.split(dataframe, coluna):\n",
    "        novo_df = dataframe.iloc[t]\n",
    "    return novo_df"
   ]
  },
  {
   "cell_type": "code",
   "execution_count": 36,
   "id": "1e8db100",
   "metadata": {},
   "outputs": [
    {
     "data": {
      "text/plain": [
       "(1629, 15)"
      ]
     },
     "execution_count": 36,
     "metadata": {},
     "output_type": "execute_result"
    }
   ],
   "source": [
    "amostra_estratificada = amostragem_estratificada(dataset, 0.05, dataset['income'])\n",
    "amostra_estratificada.shape"
   ]
  },
  {
   "cell_type": "code",
   "execution_count": 37,
   "id": "af67464c",
   "metadata": {},
   "outputs": [
    {
     "data": {
      "text/plain": [
       "income\n",
       " <=50K    1237\n",
       " >50K      392\n",
       "Name: count, dtype: int64"
      ]
     },
     "execution_count": 37,
     "metadata": {},
     "output_type": "execute_result"
    }
   ],
   "source": [
    "amostra_estratificada['income'].value_counts()"
   ]
  },
  {
   "cell_type": "code",
   "execution_count": 38,
   "id": "6950c9a0",
   "metadata": {},
   "outputs": [
    {
     "data": {
      "text/plain": [
       "(0.7593615715162676, 0.24063842848373235)"
      ]
     },
     "execution_count": 38,
     "metadata": {},
     "output_type": "execute_result"
    }
   ],
   "source": [
    "1237 / len(amostra_estratificada), 392 / len(amostra_estratificada)"
   ]
  }
 ],
 "metadata": {
  "kernelspec": {
   "display_name": "Python 3 (ipykernel)",
   "language": "python",
   "name": "python3"
  },
  "language_info": {
   "codemirror_mode": {
    "name": "ipython",
    "version": 3
   },
   "file_extension": ".py",
   "mimetype": "text/x-python",
   "name": "python",
   "nbconvert_exporter": "python",
   "pygments_lexer": "ipython3",
   "version": "3.11.5"
  }
 },
 "nbformat": 4,
 "nbformat_minor": 5
}
