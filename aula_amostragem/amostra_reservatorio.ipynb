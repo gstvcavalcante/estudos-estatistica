{
 "cells": [
  {
   "cell_type": "markdown",
   "id": "f2ad8204",
   "metadata": {},
   "source": [
    "### Amostragem de reservatório"
   ]
  },
  {
   "cell_type": "code",
   "execution_count": 1,
   "id": "f0f5b54b",
   "metadata": {},
   "outputs": [],
   "source": [
    "import pandas as pd\n",
    "import numpy as np\n",
    "import random"
   ]
  },
  {
   "cell_type": "code",
   "execution_count": 2,
   "id": "20084992",
   "metadata": {},
   "outputs": [],
   "source": [
    "dataset = pd.read_csv('census.csv')"
   ]
  },
  {
   "cell_type": "code",
   "execution_count": 3,
   "id": "30daf4e8",
   "metadata": {},
   "outputs": [],
   "source": [
    "#Podemos definir como dados em stream um conjunto de dados que continuamente recebe informações e registros.\n",
    "#E como podemos retirar uma amostragem aleatória de forma que haja a mesma probabilidade dos dados do conjunto serem\n",
    "#selecionados no momento da nossa análise, quando o dataset é continuamente atualizado?\n",
    "#É possível definir uma função que utiliza o tamanho do dataset em uma lista dentro de uma variável e uma estrutura de \n",
    "#repetição para atualizar os valores da nossa amostragem em relação ao tamanho da nossa população."
   ]
  },
  {
   "cell_type": "code",
   "execution_count": 8,
   "id": "32aa983d",
   "metadata": {},
   "outputs": [],
   "source": [
    "def amostragem_reservatorio(dataframe, amostras): #A função recebe um conjunto de dados e a quantidade de amostras que queremos\n",
    "    stream = [] #A variável 'stream' recebe uma lista vazia\n",
    "    for i in range(len(dataframe)):\n",
    "        stream.append(i) #Esse for vai inserir um valor na nossa lista para cada linha do nosso conjunto de dados\n",
    "    \n",
    "    i = 0 #Dentro do for, a variável 'i' foi sendo incrementada até a última linha do dataset, então vamos zerá-la\n",
    "    tamanho = len(dataframe) #A quantidade de registros do dataframe pode ser inserido nessa variável 'tamanho'\n",
    "    \n",
    "    reservatorio = [0] * amostras #Criado uma variável 'reservatorio' e dentro dela é gerado uma lista já com a quantidade de\n",
    "    #amostras que definimos, mas cada valor da lista inicia como sendo 0\n",
    "    for i in range(amostras):\n",
    "        reservatorio[i] = stream[i] #Esse for percorre a quantidade de amostras incrementando a variável 'i' e atribui o valor\n",
    "        #referente ao índice [i] dentro da variável 'stream' ao valor do índice [i] da variável 'reservatorio'\n",
    "        \n",
    "    while i < tamanho: #Enquanto a variável 'i' for menor que o tamanho do dataframe\n",
    "        j = random.randrange(i + 1) #Um número entre 0 e i+1 é escolhido aleatóriamente. A variável 'i' será incrementada ao\n",
    "        #final do loop\n",
    "        if j < amostras: #Se esse número aleatório for menor que o número de amostras passado\n",
    "            reservatorio[j] = stream[i] #Vamos atribuir ao valor do índice [j] dentro da variável 'reservatorio' o valor \n",
    "            #referente ao ínidice [i] dentro da variável 'stream'\n",
    "        i += 1 #Incremento da variável 'i'\n",
    "    return dataframe.iloc[reservatorio] #Assim que nossa variável conter a lista com o valor de amostras aleatórias que \n",
    "    #definimos, a função retorna a variável com os valores e seus índices para dentro do dataframe"
   ]
  },
  {
   "cell_type": "code",
   "execution_count": 11,
   "id": "23259b52",
   "metadata": {},
   "outputs": [
    {
     "data": {
      "text/plain": [
       "(100, 15)"
      ]
     },
     "execution_count": 11,
     "metadata": {},
     "output_type": "execute_result"
    }
   ],
   "source": [
    "df_amostra_reservatorio = amostragem_reservatorio(dataset, 100)\n",
    "df_amostra_reservatorio.shape"
   ]
  },
  {
   "cell_type": "code",
   "execution_count": 12,
   "id": "7d2bd63a",
   "metadata": {
    "scrolled": true
   },
   "outputs": [
    {
     "data": {
      "text/html": [
       "<div>\n",
       "<style scoped>\n",
       "    .dataframe tbody tr th:only-of-type {\n",
       "        vertical-align: middle;\n",
       "    }\n",
       "\n",
       "    .dataframe tbody tr th {\n",
       "        vertical-align: top;\n",
       "    }\n",
       "\n",
       "    .dataframe thead th {\n",
       "        text-align: right;\n",
       "    }\n",
       "</style>\n",
       "<table border=\"1\" class=\"dataframe\">\n",
       "  <thead>\n",
       "    <tr style=\"text-align: right;\">\n",
       "      <th></th>\n",
       "      <th>age</th>\n",
       "      <th>workclass</th>\n",
       "      <th>final-weight</th>\n",
       "      <th>education</th>\n",
       "      <th>education-num</th>\n",
       "      <th>marital-status</th>\n",
       "      <th>occupation</th>\n",
       "      <th>relationship</th>\n",
       "      <th>race</th>\n",
       "      <th>sex</th>\n",
       "      <th>capital-gain</th>\n",
       "      <th>capital-loos</th>\n",
       "      <th>hour-per-week</th>\n",
       "      <th>native-country</th>\n",
       "      <th>income</th>\n",
       "    </tr>\n",
       "  </thead>\n",
       "  <tbody>\n",
       "    <tr>\n",
       "      <th>7008</th>\n",
       "      <td>49</td>\n",
       "      <td>Private</td>\n",
       "      <td>215389</td>\n",
       "      <td>Bachelors</td>\n",
       "      <td>13</td>\n",
       "      <td>Married-civ-spouse</td>\n",
       "      <td>Machine-op-inspct</td>\n",
       "      <td>Husband</td>\n",
       "      <td>Black</td>\n",
       "      <td>Male</td>\n",
       "      <td>0</td>\n",
       "      <td>0</td>\n",
       "      <td>48</td>\n",
       "      <td>United-States</td>\n",
       "      <td>&lt;=50K</td>\n",
       "    </tr>\n",
       "    <tr>\n",
       "      <th>16670</th>\n",
       "      <td>47</td>\n",
       "      <td>Self-emp-inc</td>\n",
       "      <td>201699</td>\n",
       "      <td>Assoc-acdm</td>\n",
       "      <td>12</td>\n",
       "      <td>Married-civ-spouse</td>\n",
       "      <td>Exec-managerial</td>\n",
       "      <td>Husband</td>\n",
       "      <td>White</td>\n",
       "      <td>Male</td>\n",
       "      <td>0</td>\n",
       "      <td>0</td>\n",
       "      <td>50</td>\n",
       "      <td>United-States</td>\n",
       "      <td>&gt;50K</td>\n",
       "    </tr>\n",
       "    <tr>\n",
       "      <th>3937</th>\n",
       "      <td>39</td>\n",
       "      <td>Private</td>\n",
       "      <td>191841</td>\n",
       "      <td>Assoc-acdm</td>\n",
       "      <td>12</td>\n",
       "      <td>Separated</td>\n",
       "      <td>Prof-specialty</td>\n",
       "      <td>Not-in-family</td>\n",
       "      <td>White</td>\n",
       "      <td>Female</td>\n",
       "      <td>0</td>\n",
       "      <td>0</td>\n",
       "      <td>30</td>\n",
       "      <td>United-States</td>\n",
       "      <td>&lt;=50K</td>\n",
       "    </tr>\n",
       "    <tr>\n",
       "      <th>26236</th>\n",
       "      <td>32</td>\n",
       "      <td>Private</td>\n",
       "      <td>177792</td>\n",
       "      <td>Bachelors</td>\n",
       "      <td>13</td>\n",
       "      <td>Divorced</td>\n",
       "      <td>Exec-managerial</td>\n",
       "      <td>Not-in-family</td>\n",
       "      <td>White</td>\n",
       "      <td>Female</td>\n",
       "      <td>0</td>\n",
       "      <td>0</td>\n",
       "      <td>48</td>\n",
       "      <td>United-States</td>\n",
       "      <td>&gt;50K</td>\n",
       "    </tr>\n",
       "    <tr>\n",
       "      <th>1354</th>\n",
       "      <td>58</td>\n",
       "      <td>Private</td>\n",
       "      <td>132606</td>\n",
       "      <td>5th-6th</td>\n",
       "      <td>3</td>\n",
       "      <td>Divorced</td>\n",
       "      <td>Machine-op-inspct</td>\n",
       "      <td>Not-in-family</td>\n",
       "      <td>Black</td>\n",
       "      <td>Male</td>\n",
       "      <td>0</td>\n",
       "      <td>0</td>\n",
       "      <td>40</td>\n",
       "      <td>United-States</td>\n",
       "      <td>&lt;=50K</td>\n",
       "    </tr>\n",
       "  </tbody>\n",
       "</table>\n",
       "</div>"
      ],
      "text/plain": [
       "       age      workclass  final-weight    education  education-num  \\\n",
       "7008    49        Private        215389    Bachelors             13   \n",
       "16670   47   Self-emp-inc        201699   Assoc-acdm             12   \n",
       "3937    39        Private        191841   Assoc-acdm             12   \n",
       "26236   32        Private        177792    Bachelors             13   \n",
       "1354    58        Private        132606      5th-6th              3   \n",
       "\n",
       "            marital-status          occupation    relationship    race  \\\n",
       "7008    Married-civ-spouse   Machine-op-inspct         Husband   Black   \n",
       "16670   Married-civ-spouse     Exec-managerial         Husband   White   \n",
       "3937             Separated      Prof-specialty   Not-in-family   White   \n",
       "26236             Divorced     Exec-managerial   Not-in-family   White   \n",
       "1354              Divorced   Machine-op-inspct   Not-in-family   Black   \n",
       "\n",
       "           sex  capital-gain  capital-loos  hour-per-week  native-country  \\\n",
       "7008      Male             0             0             48   United-States   \n",
       "16670     Male             0             0             50   United-States   \n",
       "3937    Female             0             0             30   United-States   \n",
       "26236   Female             0             0             48   United-States   \n",
       "1354      Male             0             0             40   United-States   \n",
       "\n",
       "       income  \n",
       "7008    <=50K  \n",
       "16670    >50K  \n",
       "3937    <=50K  \n",
       "26236    >50K  \n",
       "1354    <=50K  "
      ]
     },
     "execution_count": 12,
     "metadata": {},
     "output_type": "execute_result"
    }
   ],
   "source": [
    "df_amostra_reservatorio.head()"
   ]
  }
 ],
 "metadata": {
  "kernelspec": {
   "display_name": "Python 3 (ipykernel)",
   "language": "python",
   "name": "python3"
  },
  "language_info": {
   "codemirror_mode": {
    "name": "ipython",
    "version": 3
   },
   "file_extension": ".py",
   "mimetype": "text/x-python",
   "name": "python",
   "nbconvert_exporter": "python",
   "pygments_lexer": "ipython3",
   "version": "3.11.5"
  }
 },
 "nbformat": 4,
 "nbformat_minor": 5
}
